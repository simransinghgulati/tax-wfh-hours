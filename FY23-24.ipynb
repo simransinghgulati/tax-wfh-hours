{
 "cells": [
  {
   "cell_type": "markdown",
   "id": "ccc6378c",
   "metadata": {},
   "source": [
    "## Tax Deduction\n",
    "\n",
    "Aggregating hours worked from home (WFH) for the Financial Year 2023-24"
   ]
  },
  {
   "cell_type": "code",
   "execution_count": 1,
   "id": "09c644fc",
   "metadata": {},
   "outputs": [],
   "source": [
    "import PyPDF2\n",
    "import os\n",
    "import pandas as pd\n",
    "import time"
   ]
  },
  {
   "cell_type": "code",
   "execution_count": 2,
   "id": "ce5e048e",
   "metadata": {},
   "outputs": [],
   "source": [
    "# payslips for the mentioned FY are put in this folder\n",
    "directory_path = './FY23-24'\n",
    "# fetch their names for computation\n",
    "filenames = [f for f in os.listdir(directory_path) if os.path.isfile(os.path.join(directory_path, f)) and not f.startswith('.DS_Store')]\n",
    "# sort the list by name\n",
    "filenames.sort()"
   ]
  },
  {
   "cell_type": "code",
   "execution_count": 3,
   "id": "5635e516",
   "metadata": {},
   "outputs": [
    {
     "data": {
      "text/plain": [
       "0.44251585006713867"
      ]
     },
     "execution_count": 3,
     "metadata": {},
     "output_type": "execute_result"
    }
   ],
   "source": [
    "# intitalise an empty list to store tuples (date, code, hours, income) for each claim\n",
    "claims_li = []\n",
    "# for tracking time\n",
    "time_start = time.time()\n",
    "# iterate over all payslips\n",
    "for file in filenames:\n",
    "    # read data from the PDF\n",
    "    reader = PyPDF2.PdfReader('FY23-24/'+str(file))\n",
    "    # extract data from reader object\n",
    "    data = reader.pages[0].extract_text().split(\"\\n\")\n",
    "    # iterate through each line where \"i\" is line number and \"j\" is the content within that line \n",
    "    for i,j in enumerate(data):\n",
    "        # select only the relevant part of the payslip i.e. the claims part\n",
    "        if \"SALARY AND ALLOWANCES\" in j:\n",
    "            start = i\n",
    "        if \"TOTAL SALARY AND  ALLOWANCES\" in j:\n",
    "            end = i\n",
    "    # traverse through all the claims\n",
    "    for i in reader.pages[0].extract_text().split(\"\\n\")[start+2:end]:\n",
    "        # create a tuple with date, wage type/code, hours, total amount and add it to the list\n",
    "        claims_li.append((i.split()[1],int(i.split()[2]), float(i.split()[-4]), float(i.split()[-2])))\n",
    "time.time() - time_start"
   ]
  },
  {
   "cell_type": "code",
   "execution_count": 4,
   "id": "425e3dee",
   "metadata": {},
   "outputs": [],
   "source": [
    "# convert list to pandas df\n",
    "df = pd.DataFrame(claims_li, columns=['date', 'code', 'hours', 'amount'])"
   ]
  },
  {
   "cell_type": "code",
   "execution_count": 5,
   "id": "1f15d9e1",
   "metadata": {},
   "outputs": [],
   "source": [
    "# dictionary to store the claim code and its description\n",
    "code_desc = {2009: 'MonashConnect', 2088: 'ORAA', 2093:'RA', 2091:'Marking', 2269: 'WorkshopSupport', 2271:'AppliedClass'}"
   ]
  },
  {
   "cell_type": "code",
   "execution_count": 6,
   "id": "858060e1",
   "metadata": {},
   "outputs": [],
   "source": [
    "# add description to the df using dictionary\n",
    "df['description'] = df['code'].map(code_desc)"
   ]
  },
  {
   "cell_type": "code",
   "execution_count": 7,
   "id": "005812fe",
   "metadata": {},
   "outputs": [
    {
     "data": {
      "text/html": [
       "<div>\n",
       "<style scoped>\n",
       "    .dataframe tbody tr th:only-of-type {\n",
       "        vertical-align: middle;\n",
       "    }\n",
       "\n",
       "    .dataframe tbody tr th {\n",
       "        vertical-align: top;\n",
       "    }\n",
       "\n",
       "    .dataframe thead th {\n",
       "        text-align: right;\n",
       "    }\n",
       "</style>\n",
       "<table border=\"1\" class=\"dataframe\">\n",
       "  <thead>\n",
       "    <tr style=\"text-align: right;\">\n",
       "      <th></th>\n",
       "      <th>date</th>\n",
       "      <th>code</th>\n",
       "      <th>hours</th>\n",
       "      <th>amount</th>\n",
       "      <th>description</th>\n",
       "    </tr>\n",
       "  </thead>\n",
       "  <tbody>\n",
       "    <tr>\n",
       "      <th>0</th>\n",
       "      <td>17/07</td>\n",
       "      <td>2088</td>\n",
       "      <td>1.00</td>\n",
       "      <td>52.94</td>\n",
       "      <td>ORAA</td>\n",
       "    </tr>\n",
       "    <tr>\n",
       "      <th>1</th>\n",
       "      <td>24/07</td>\n",
       "      <td>2088</td>\n",
       "      <td>2.50</td>\n",
       "      <td>132.35</td>\n",
       "      <td>ORAA</td>\n",
       "    </tr>\n",
       "    <tr>\n",
       "      <th>2</th>\n",
       "      <td>27/07</td>\n",
       "      <td>2088</td>\n",
       "      <td>1.00</td>\n",
       "      <td>52.94</td>\n",
       "      <td>ORAA</td>\n",
       "    </tr>\n",
       "    <tr>\n",
       "      <th>3</th>\n",
       "      <td>31/07</td>\n",
       "      <td>2088</td>\n",
       "      <td>2.50</td>\n",
       "      <td>132.35</td>\n",
       "      <td>ORAA</td>\n",
       "    </tr>\n",
       "    <tr>\n",
       "      <th>4</th>\n",
       "      <td>03/08</td>\n",
       "      <td>2088</td>\n",
       "      <td>1.00</td>\n",
       "      <td>52.94</td>\n",
       "      <td>ORAA</td>\n",
       "    </tr>\n",
       "    <tr>\n",
       "      <th>...</th>\n",
       "      <td>...</td>\n",
       "      <td>...</td>\n",
       "      <td>...</td>\n",
       "      <td>...</td>\n",
       "      <td>...</td>\n",
       "    </tr>\n",
       "    <tr>\n",
       "      <th>139</th>\n",
       "      <td>03/06</td>\n",
       "      <td>2091</td>\n",
       "      <td>4.00</td>\n",
       "      <td>218.12</td>\n",
       "      <td>Marking</td>\n",
       "    </tr>\n",
       "    <tr>\n",
       "      <th>140</th>\n",
       "      <td>04/06</td>\n",
       "      <td>2091</td>\n",
       "      <td>4.00</td>\n",
       "      <td>218.12</td>\n",
       "      <td>Marking</td>\n",
       "    </tr>\n",
       "    <tr>\n",
       "      <th>141</th>\n",
       "      <td>05/06</td>\n",
       "      <td>2091</td>\n",
       "      <td>4.00</td>\n",
       "      <td>218.12</td>\n",
       "      <td>Marking</td>\n",
       "    </tr>\n",
       "    <tr>\n",
       "      <th>142</th>\n",
       "      <td>06/06</td>\n",
       "      <td>2091</td>\n",
       "      <td>4.00</td>\n",
       "      <td>218.12</td>\n",
       "      <td>Marking</td>\n",
       "    </tr>\n",
       "    <tr>\n",
       "      <th>143</th>\n",
       "      <td>07/06</td>\n",
       "      <td>2091</td>\n",
       "      <td>0.67</td>\n",
       "      <td>36.54</td>\n",
       "      <td>Marking</td>\n",
       "    </tr>\n",
       "  </tbody>\n",
       "</table>\n",
       "<p>144 rows × 5 columns</p>\n",
       "</div>"
      ],
      "text/plain": [
       "      date  code  hours  amount description\n",
       "0    17/07  2088   1.00   52.94        ORAA\n",
       "1    24/07  2088   2.50  132.35        ORAA\n",
       "2    27/07  2088   1.00   52.94        ORAA\n",
       "3    31/07  2088   2.50  132.35        ORAA\n",
       "4    03/08  2088   1.00   52.94        ORAA\n",
       "..     ...   ...    ...     ...         ...\n",
       "139  03/06  2091   4.00  218.12     Marking\n",
       "140  04/06  2091   4.00  218.12     Marking\n",
       "141  05/06  2091   4.00  218.12     Marking\n",
       "142  06/06  2091   4.00  218.12     Marking\n",
       "143  07/06  2091   0.67   36.54     Marking\n",
       "\n",
       "[144 rows x 5 columns]"
      ]
     },
     "execution_count": 7,
     "metadata": {},
     "output_type": "execute_result"
    }
   ],
   "source": [
    "df"
   ]
  },
  {
   "cell_type": "code",
   "execution_count": 8,
   "id": "bb830efe",
   "metadata": {},
   "outputs": [
    {
     "data": {
      "text/plain": [
       "217.49"
      ]
     },
     "execution_count": 8,
     "metadata": {},
     "output_type": "execute_result"
    }
   ],
   "source": [
    "# exclude claims that cannot be used for wfh deductions\n",
    "new_df = df[~df['code'].isin([2269,2271])]\n",
    "sum(new_df['hours'])"
   ]
  },
  {
   "cell_type": "code",
   "execution_count": 37,
   "id": "e09c3e4a",
   "metadata": {},
   "outputs": [
    {
     "data": {
      "text/plain": [
       "array(['ORAA', 'Marking'], dtype=object)"
      ]
     },
     "execution_count": 37,
     "metadata": {},
     "output_type": "execute_result"
    }
   ],
   "source": [
    "new_df['description'].unique()"
   ]
  },
  {
   "cell_type": "code",
   "execution_count": 27,
   "id": "e06e6686",
   "metadata": {},
   "outputs": [],
   "source": [
    "new_df.to_csv('summary_FY23-24.csv')"
   ]
  },
  {
   "cell_type": "code",
   "execution_count": null,
   "id": "7d7639e3",
   "metadata": {},
   "outputs": [],
   "source": []
  }
 ],
 "metadata": {
  "kernelspec": {
   "display_name": "Python 3 (ipykernel)",
   "language": "python",
   "name": "python3"
  },
  "language_info": {
   "codemirror_mode": {
    "name": "ipython",
    "version": 3
   },
   "file_extension": ".py",
   "mimetype": "text/x-python",
   "name": "python",
   "nbconvert_exporter": "python",
   "pygments_lexer": "ipython3",
   "version": "3.10.12"
  }
 },
 "nbformat": 4,
 "nbformat_minor": 5
}
